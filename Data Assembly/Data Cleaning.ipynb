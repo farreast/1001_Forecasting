{
 "cells": [
  {
   "cell_type": "code",
   "execution_count": 1,
   "metadata": {},
   "outputs": [],
   "source": [
    "import pandas as pd\n",
    "import numpy as np"
   ]
  },
  {
   "cell_type": "markdown",
   "metadata": {},
   "source": [
    "## Nasser's cleaning -- Weather data"
   ]
  },
  {
   "cell_type": "code",
   "execution_count": 2,
   "metadata": {},
   "outputs": [
    {
     "name": "stderr",
     "output_type": "stream",
     "text": [
      "/opt/anaconda3/lib/python3.8/site-packages/IPython/core/interactiveshell.py:3071: DtypeWarning: Columns (3,30,31,32,41,42,43,44,49,51,58,69,71,72,88,95,96,97,98,99,100,101,102,103,104,105,106,107) have mixed types.Specify dtype option on import or set low_memory=False.\n",
      "  has_raised = await self.run_ast_nodes(code_ast.body, cell_name,\n",
      "/opt/anaconda3/lib/python3.8/site-packages/IPython/core/interactiveshell.py:3071: DtypeWarning: Columns (30,31,33,34,41,42,43,49,51,69,71,75,76,88,89) have mixed types.Specify dtype option on import or set low_memory=False.\n",
      "  has_raised = await self.run_ast_nodes(code_ast.body, cell_name,\n",
      "/opt/anaconda3/lib/python3.8/site-packages/IPython/core/interactiveshell.py:3071: DtypeWarning: Columns (30,31,33,34,35,36,41,42,43,48,49,51,53,56,58,59,69,71,73,75,76,88,89) have mixed types.Specify dtype option on import or set low_memory=False.\n",
      "  has_raised = await self.run_ast_nodes(code_ast.body, cell_name,\n",
      "<ipython-input-2-c852634a9633>:27: SettingWithCopyWarning: \n",
      "A value is trying to be set on a copy of a slice from a DataFrame\n",
      "\n",
      "See the caveats in the documentation: https://pandas.pydata.org/pandas-docs/stable/user_guide/indexing.html#returning-a-view-versus-a-copy\n",
      "  cincinnati[col][cincinnati[col]==i[1]] = float(i[1][:-1])\n",
      "<ipython-input-2-c852634a9633>:34: SettingWithCopyWarning: \n",
      "A value is trying to be set on a copy of a slice from a DataFrame\n",
      "\n",
      "See the caveats in the documentation: https://pandas.pydata.org/pandas-docs/stable/user_guide/indexing.html#returning-a-view-versus-a-copy\n",
      "  baltimore[col][baltimore[col]==i[1]] = float(i[1][:-1])\n",
      "<ipython-input-2-c852634a9633>:41: SettingWithCopyWarning: \n",
      "A value is trying to be set on a copy of a slice from a DataFrame\n",
      "\n",
      "See the caveats in the documentation: https://pandas.pydata.org/pandas-docs/stable/user_guide/indexing.html#returning-a-view-versus-a-copy\n",
      "  richmond[col][richmond[col]==i[1]] = float(i[1][:-1])\n"
     ]
    }
   ],
   "source": [
    "cincinnati = pd.read_csv('cincinnati_data.csv').set_index('DATE').fillna(method='ffill')\n",
    "baltimore = pd.read_csv('baltimore_data.csv').set_index('DATE').fillna(method='ffill')\n",
    "richmond = pd.read_csv('richmond_data.csv').set_index('DATE').fillna(method='ffill')\n",
    "cincinnati.index = pd.to_datetime(cincinnati.index).round('h')\n",
    "baltimore.index = pd.to_datetime(baltimore.index).round('h')\n",
    "richmond.index = pd.to_datetime(richmond.index).round('h')\n",
    "\n",
    "columns = []\n",
    "for i in cincinnati.columns:\n",
    "    if 'Hourly' in i:\n",
    "        columns.append(i)\n",
    "        \n",
    "cincinnati = cincinnati[columns]\n",
    "baltimore = baltimore[columns]\n",
    "richmond = richmond[columns]\n",
    "\n",
    "\n",
    "columns.remove('HourlySkyConditions')\n",
    "columns.remove('HourlyPresentWeatherType')\n",
    "columns.remove('HourlyPrecipitation')\n",
    "\n",
    "for col in columns:\n",
    "    for i in enumerate(cincinnati[col]):\n",
    "        if type(i[1]) == int or type(i[1]) == float:\n",
    "            pass\n",
    "        elif 's' in i[1]:\n",
    "            cincinnati[col][cincinnati[col]==i[1]] = float(i[1][:-1])\n",
    "            \n",
    "for col in columns:\n",
    "    for i in enumerate(baltimore[col]):\n",
    "        if type(i[1]) == int or type(i[1]) == float:\n",
    "            pass\n",
    "        elif 's' in i[1]:\n",
    "            baltimore[col][baltimore[col]==i[1]] = float(i[1][:-1])\n",
    "            \n",
    "for col in columns:\n",
    "    for i in enumerate(richmond[col]):\n",
    "        if type(i[1]) == int or type(i[1]) == float:\n",
    "            pass\n",
    "        elif 's' in i[1]:\n",
    "            richmond[col][richmond[col]==i[1]] = float(i[1][:-1])\n",
    "   "
   ]
  },
  {
   "cell_type": "markdown",
   "metadata": {},
   "source": [
    "## Index Dataframes in uniform manner, create general column names"
   ]
  },
  {
   "cell_type": "code",
   "execution_count": 3,
   "metadata": {},
   "outputs": [],
   "source": [
    "ev = pd.read_excel('Solar_GenX.xlsx').set_index('datetime_beginning_ept').fillna(method='bfill') ## read in solar data\n",
    "ev.index = pd.to_datetime(ev.index)                                                                 \n",
    "#########################################################################################          \n",
    "demand = pd.read_csv('Demand_data.csv',index_col='datetime_beginning_utc',parse_dates=True) ## read in demand data\n",
    "ev1 = ev.iloc[:len(demand),[0,1,2,3]]                                                        ## make demand and solar df's the same length\n",
    "ixx = ev1.index.to_list()\n",
    "demand['datetime_beginning_ept'] = pd.Series(ixx, index=demand.index)     \n",
    "demand = demand.set_index('datetime_beginning_ept')                      ### demand data had utc time, so converted to ept using solar df index\n",
    "######################################################################################### \n",
    "WIND = pd.read_excel('WindGenDataFinal.xlsx',index_col='datetime_beginning_ept',parse_dates=True) \n",
    "WIND = WIND['2019-01-01 00:00:00':] ## start at same time as others\n",
    "demand = demand['2019-01-01 00:00:00':'2020-11-08 18:00:00'] ## make demand end at same time as wind\n",
    "ev1= ev1['2019-01-01 00:00:00':'2020-11-08 18:00:00'] ## make solar end at same time as wind\n",
    "WIND = WIND.rename(columns={\"MIDATL\": \"MIDATL_wind\", \"SOUTH\": \"SOUTH_wind\",\"WEST\": \"WEST_wind\"})\n",
    "demand = demand.rename(columns={\"MIDATL_DEMAND\": \"MIDATL_demand\", \"SOUTH_DEMAND\": \"SOUTH_demand\",\"WEST_DEMAND\": \"WEST_demand\"})"
   ]
  },
  {
   "cell_type": "markdown",
   "metadata": {},
   "source": [
    "## Merge & create dataframes on region: WEST, MIDATL, SOUTH"
   ]
  },
  {
   "cell_type": "code",
   "execution_count": 4,
   "metadata": {},
   "outputs": [],
   "source": [
    "WEST,MIDATL,SOUTH = [pd.DataFrame(),pd.DataFrame(),pd.DataFrame()]\n",
    "regions = ['WEST','MIDATL','SOUTH']\n",
    "cities = [cincinnati,baltimore,richmond]\n",
    "l = [WEST,MIDATL,SOUTH]\n",
    "for i in range(len(regions)): #for each city or region\n",
    "    df = pd.merge(cities[i],ev1[str(regions[i])+'_solar'],left_index=True, right_index=True)   # merge weather with solar\n",
    "    df = pd.merge(df,WIND[str(regions[i])+'_wind'],left_index=True, right_index=True) # merge previous with wind\n",
    "    df = pd.merge(df,demand[str(regions[i])+'_demand'],left_index=True, right_index=True) # merge previous with demand\n",
    "    df = df.drop(['HourlyPresentWeatherType', 'HourlySkyConditions', \n",
    "                 'HourlyAltimeterSetting', 'HourlyPressureChange', 'HourlyPrecipitation',\n",
    "                  'HourlyPressureTendency', 'HourlySeaLevelPressure', 'HourlyWetBulbTemperature'], axis=1)\n",
    "    l[i] = df.reset_index().drop_duplicates(subset='index', keep='last').set_index('index').sort_index()\n",
    "    for col in l[i].columns:\n",
    "        l[i][col] = (pd.to_numeric(l[i][col], errors='coerce').fillna(0))\n",
    "\n",
    "WEST,MIDATL,SOUTH = l"
   ]
  },
  {
   "cell_type": "code",
   "execution_count": 7,
   "metadata": {},
   "outputs": [],
   "source": [
    "WEST.to_excel(\"WEST.xlsx\")  \n",
    "SOUTH.to_excel(\"SOUTH.xlsx\")  \n",
    "MIDATL.to_excel(\"MIDATL.xlsx\")  "
   ]
  },
  {
   "cell_type": "code",
   "execution_count": null,
   "metadata": {},
   "outputs": [],
   "source": []
  }
 ],
 "metadata": {
  "kernelspec": {
   "display_name": "Python 3",
   "language": "python",
   "name": "python3"
  },
  "language_info": {
   "codemirror_mode": {
    "name": "ipython",
    "version": 3
   },
   "file_extension": ".py",
   "mimetype": "text/x-python",
   "name": "python",
   "nbconvert_exporter": "python",
   "pygments_lexer": "ipython3",
   "version": "3.8.3"
  }
 },
 "nbformat": 4,
 "nbformat_minor": 4
}
